{
 "cells": [
  {
   "cell_type": "code",
   "execution_count": null,
   "id": "507192be-8392-4306-b06f-b7d33d1f4e84",
   "metadata": {
    "tags": []
   },
   "outputs": [
    {
     "name": "stdout",
     "output_type": "stream",
     "text": [
      "\u001b[2K[=================================================>          ] Downloaded 15,804,137,472 of 19,081,966,958 bytes (82%) /opt/notebooks/ABCA1_variants.vcf.gz\r"
     ]
    }
   ],
   "source": [
    "dx download \"selected_genes/ldlr/coding_and_noncoding/ABCA1_variants.vcf.gz\""
   ]
  },
  {
   "cell_type": "code",
   "execution_count": null,
   "id": "4ce3ec8e-1e83-48b4-8e75-726cefee39f0",
   "metadata": {
    "tags": []
   },
   "outputs": [],
   "source": [
    "gzip -d ABCA1_variants.vcf.gz"
   ]
  },
  {
   "cell_type": "code",
   "execution_count": null,
   "id": "bfaa7571-2057-4fcd-b083-615220df1fb5",
   "metadata": {
    "tags": []
   },
   "outputs": [],
   "source": [
    "for vcf_file in *.vcf; do\n",
    "  # Remove lines starting with '##' and then use 'cut' to extract fields 1-9\n",
    "  grep -v '^##' \"$vcf_file\" | cut -d$'\\t' -f 3,8 > \"${vcf_file%.vcf}_cleaned.vcf\"\n",
    "done"
   ]
  },
  {
   "cell_type": "code",
   "execution_count": null,
   "id": "d8058898-9eed-44f8-a933-64908deef4da",
   "metadata": {},
   "outputs": [],
   "source": [
    "!awk 'BEGIN{FS=OFS=\"\\t\"} {split($2, arr, \";\"); $2=arr[1]} 1' ABCA1_variants_cleaned.vcf | awk 'BEGIN{FS=OFS=\"\\t\"} {split($2, arr, \"AF=\"); $2=arr[2]} 1'  > cleaned.txt\n"
   ]
  },
  {
   "cell_type": "code",
   "execution_count": null,
   "id": "1520861e-686a-4f13-9015-764979d30f7a",
   "metadata": {},
   "outputs": [],
   "source": [
    "import pandas as pd\n",
    "\n",
    "csv = pd.read_csv(\"cleaned.txt\", sep = '\\t')"
   ]
  }
 ],
 "metadata": {
  "kernelspec": {
   "display_name": "Bash",
   "language": "bash",
   "name": "bash"
  },
  "language_info": {
   "codemirror_mode": "shell",
   "file_extension": ".sh",
   "mimetype": "text/x-sh",
   "name": "bash"
  }
 },
 "nbformat": 4,
 "nbformat_minor": 5
}
