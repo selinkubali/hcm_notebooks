{
 "cells": [
  {
   "cell_type": "markdown",
   "metadata": {},
   "source": [
    "# Cox regression model\n",
    "#### Selin Kubali\n",
    "#### Updated 10-11-2023\n",
    "\n",
    "Goal: Model all genes related to hypertrophic cardiomyopathy with a Cox regression model in three possible configurations: with all possible parameters, with parameters based on the procedure given in [Fife et al. 2021](https://www.medrxiv.org/content/10.1101/2021.08.12.21261563v1), and with only statistically significant parameters. \n",
    "\n",
    "Input: .csv files for each gene, found in /selected_genes/hcm/lifelines_data in the Cassa Lab project on UKBiobank. Instructions for how to generate these genes are found in the notebooks in /selected_genes/hcm/notebooks\n"
   ]
  },
  {
   "cell_type": "code",
   "execution_count": 2,
   "metadata": {},
   "outputs": [
    {
     "ename": "FileNotFoundError",
     "evalue": "[Errno 2] No such file or directory: '/Users/uriel/Downloads/work_temp/gnomadAI_lifelines'",
     "output_type": "error",
     "traceback": [
      "\u001b[0;31m---------------------------------------------------------------------------\u001b[0m",
      "\u001b[0;31mFileNotFoundError\u001b[0m                         Traceback (most recent call last)",
      "Cell \u001b[0;32mIn[2], line 6\u001b[0m\n\u001b[1;32m      4\u001b[0m \u001b[38;5;28;01mfrom\u001b[39;00m \u001b[38;5;21;01mlifelines\u001b[39;00m \u001b[38;5;28;01mimport\u001b[39;00m KaplanMeierFitter\n\u001b[1;32m      5\u001b[0m \u001b[38;5;28;01mimport\u001b[39;00m \u001b[38;5;21;01mos\u001b[39;00m\n\u001b[0;32m----> 6\u001b[0m \u001b[43mos\u001b[49m\u001b[38;5;241;43m.\u001b[39;49m\u001b[43mchdir\u001b[49m\u001b[43m(\u001b[49m\u001b[38;5;124;43m'\u001b[39;49m\u001b[38;5;124;43m/Users/uriel/Downloads/work_temp/gnomadAI_lifelines\u001b[39;49m\u001b[38;5;124;43m'\u001b[39;49m\u001b[43m)\u001b[49m\n",
      "\u001b[0;31mFileNotFoundError\u001b[0m: [Errno 2] No such file or directory: '/Users/uriel/Downloads/work_temp/gnomadAI_lifelines'"
     ]
    }
   ],
   "source": [
    "import pandas as pd\n",
    "from lifelines import CoxPHFitter\n",
    "import numpy as np\n",
    "from lifelines import KaplanMeierFitter\n",
    "import os\n",
    "os.chdir('/Users/uriel/Downloads/work_temp/gnomadAI_lifelines')"
   ]
  },
  {
   "cell_type": "code",
   "execution_count": 1,
   "metadata": {},
   "outputs": [
    {
     "name": "stdout",
     "output_type": "stream",
     "text": [
      "ACTN2\n"
     ]
    },
    {
     "ename": "NameError",
     "evalue": "name 'pd' is not defined",
     "output_type": "error",
     "traceback": [
      "\u001b[0;31m---------------------------------------------------------------------------\u001b[0m",
      "\u001b[0;31mNameError\u001b[0m                                 Traceback (most recent call last)",
      "Cell \u001b[0;32mIn[1], line 54\u001b[0m\n\u001b[1;32m     51\u001b[0m \u001b[38;5;28mprint\u001b[39m(gene)\n\u001b[1;32m     52\u001b[0m \u001b[38;5;66;03m#create_model(gene)\u001b[39;00m\n\u001b[1;32m     53\u001b[0m \u001b[38;5;66;03m#create_model(gene, clintegrate=True)\u001b[39;00m\n\u001b[0;32m---> 54\u001b[0m \u001b[43mcreate_model\u001b[49m\u001b[43m(\u001b[49m\u001b[43mgene\u001b[49m\u001b[43m,\u001b[49m\u001b[43m \u001b[49m\u001b[38;5;28;43mmin\u001b[39;49m\u001b[43m \u001b[49m\u001b[38;5;241;43m=\u001b[39;49m\u001b[43m \u001b[49m\u001b[38;5;28;43;01mTrue\u001b[39;49;00m\u001b[43m)\u001b[49m\n",
      "Cell \u001b[0;32mIn[1], line 10\u001b[0m, in \u001b[0;36mcreate_model\u001b[0;34m(gene, min, clintegrate)\u001b[0m\n\u001b[1;32m      8\u001b[0m \u001b[38;5;66;03m# read in file\u001b[39;00m\n\u001b[1;32m      9\u001b[0m file_name\u001b[38;5;241m=\u001b[39mgene\u001b[38;5;241m+\u001b[39m\u001b[38;5;124m'\u001b[39m\u001b[38;5;124m.csv\u001b[39m\u001b[38;5;124m'\u001b[39m\n\u001b[0;32m---> 10\u001b[0m phenotypic_data \u001b[38;5;241m=\u001b[39m \u001b[43mpd\u001b[49m\u001b[38;5;241m.\u001b[39mread_csv(file_name, dtype\u001b[38;5;241m=\u001b[39m{\n\u001b[1;32m     11\u001b[0m         \u001b[38;5;124m'\u001b[39m\u001b[38;5;124mis_family_hist\u001b[39m\u001b[38;5;124m'\u001b[39m:\u001b[38;5;124m'\u001b[39m\u001b[38;5;124mboolean\u001b[39m\u001b[38;5;124m'\u001b[39m,\n\u001b[1;32m     12\u001b[0m         \u001b[38;5;124m'\u001b[39m\u001b[38;5;124mis_hcm\u001b[39m\u001b[38;5;124m'\u001b[39m:\u001b[38;5;124m'\u001b[39m\u001b[38;5;124mboolean\u001b[39m\u001b[38;5;124m'\u001b[39m\n\u001b[1;32m     13\u001b[0m         })\n\u001b[1;32m     17\u001b[0m \u001b[38;5;66;03m# drop unnecessary columns and rows; reformat is_hcm and is_family_hist columns to integer\u001b[39;00m\n\u001b[1;32m     18\u001b[0m phenotypic_data \u001b[38;5;241m=\u001b[39m phenotypic_data\u001b[38;5;241m.\u001b[39mdrop([\u001b[38;5;124m'\u001b[39m\u001b[38;5;124mName\u001b[39m\u001b[38;5;124m'\u001b[39m, \u001b[38;5;124m'\u001b[39m\u001b[38;5;124mindex\u001b[39m\u001b[38;5;124m'\u001b[39m], axis \u001b[38;5;241m=\u001b[39m \u001b[38;5;241m1\u001b[39m)\n",
      "\u001b[0;31mNameError\u001b[0m: name 'pd' is not defined"
     ]
    }
   ],
   "source": [
    "genes = [\"ACTN2\",\"ALPK3\", \"DES\", \"FLNC\", \"MYBPC3\", \"MYH6\", \"MYH7\", \"PTPN11\", \"TNNI3\", \"TTR\"]\n",
    "def create_model(gene, min = False, clintegrate = False):\n",
    "    \n",
    "\n",
    "\n",
    "    phenotypic_data = 0\n",
    "    \n",
    "    # read in file\n",
    "    file_name=gene+'.csv'\n",
    "    phenotypic_data = pd.read_csv(file_name, dtype={\n",
    "            'is_family_hist':'boolean',\n",
    "            'is_hcm':'boolean'\n",
    "            })\n",
    "\n",
    "\n",
    "    \n",
    "    # drop unnecessary columns and rows; reformat is_hcm and is_family_hist columns to integer\n",
    "    phenotypic_data = phenotypic_data.drop(['Name', 'index'], axis = 1)\n",
    "    phenotypic_data=phenotypic_data.dropna()\n",
    "    \n",
    "\n",
    "\n",
    "    # Change values in column A to value Y where condition X is met\n",
    "    phenotypic_data.loc[phenotypic_data['deleterious'] == 1, 'am_pathogenicity'] = 1\n",
    "    \n",
    "    if clintegrate == True:\n",
    "        # keep only columns where p < 0.05, the column was a categorical variable related to functional consequence (synonymous_variant, missense_variant, deleterious), or the addition improved model concordance by at least 0.01 \n",
    "        # (same for all tested genes)\n",
    "\n",
    "        print(\"Clintegrate model\")\n",
    "        phenotypic_data = phenotypic_data.drop(['principal_component_2','principal_component_3', 'principal_component_5', 'principal_component_6', 'principal_component_7', 'principal_component_8', 'principal_component_9', 'principal_component_10','CADD_raw', 'phyloP100way_vertebrate', 'GERP++_RS'], axis = 1)\n",
    "  \n",
    "    if min == True:\n",
    "        # keep only columns where p < 0.05 \n",
    "        # (same for all tested genes)\n",
    "        print(\"Minimum model\")\n",
    "        phenotypic_data = phenotypic_data.drop(['principal_component_2','principal_component_3', 'principal_component_5', 'principal_component_6', 'principal_component_7', 'principal_component_8', 'principal_component_9', 'principal_component_10','CADD_raw', 'phyloP100way_vertebrate', 'GERP++_RS','trv', 'ds_ag', 'ds_al', 'ds_dg', 'ds_al', 'ds_dl', 'missense_variant', 'synonymous_variant', 'deleterious'], axis = 1)\n",
    "\n",
    "\n",
    "\n",
    "    # fit coxph model\n",
    "    cph = CoxPHFitter()\n",
    "    cph.fit(phenotypic_data, 'duration', 'is_hcm', fit_options = {\"step_size\":0.1})\n",
    "    cph.print_summary()\n",
    "\n",
    "\n",
    "\n",
    "\n",
    "\n",
    "for gene in genes:\n",
    "    print(gene)\n",
    "    #create_model(gene)\n",
    "    #create_model(gene, clintegrate=True)\n",
    "    create_model(gene, min = True)\n",
    "\n"
   ]
  },
  {
   "cell_type": "code",
   "execution_count": null,
   "metadata": {},
   "outputs": [],
   "source": []
  }
 ],
 "metadata": {
  "kernelspec": {
   "display_name": "Python 3 (ipykernel)",
   "language": "python",
   "name": "python3"
  },
  "language_info": {
   "codemirror_mode": {
    "name": "ipython",
    "version": 3
   },
   "file_extension": ".py",
   "mimetype": "text/x-python",
   "name": "python",
   "nbconvert_exporter": "python",
   "pygments_lexer": "ipython3",
   "version": "3.10.13"
  }
 },
 "nbformat": 4,
 "nbformat_minor": 4
}
