{
 "cells": [
  {
   "cell_type": "code",
   "execution_count": null,
   "metadata": {},
   "outputs": [],
   "source": [
    "phenotypic_data = phenotypic_data.sample(frac = 1)\n",
    "train, test = train_test_split(phenotypic_data, shuffle=True, test_size = 0.5)\n",
    "cph.fit(train, duration_col=\"duration\", event_col=\"is_hcm\", fit_options = {\"step_size\":0.1})\n",
    "hazard_scores = cph.predict_partial_hazard(test)"
   ]
  },
  {
   "cell_type": "code",
   "execution_count": null,
   "metadata": {},
   "outputs": [],
   "source": [
    "    X = phenotypic_data[['sex','is_family_hist', 'age', 'principal_component_1', 'principal_component_4', 'prs_score', 'am_pathogenicity']].values\n",
    "    y = phenotypic_data['is_hcm'].values\n",
    "   \n",
    "    for train_idx, test_idx in skf.split(X, y):\n",
    "        train = phenotypic_data.iloc[train_idx]\n",
    "        test = phenotypic_data.iloc[test_idx]\n",
    "        train = train.drop(['var_index'], axis=1)\n",
    "        test = test.drop(['var_index'], axis=1)\n",
    "\n",
    "        # fit CPH and add hazard scores\n",
    "        cph.fit(train, duration_col=\"duration\", event_col=\"is_hcm\", fit_options = {\"step_size\":0.1})\n",
    "        hazard_scores_fold = cph.predict_partial_hazard(test)\n",
    "        hazard_scores.extend(hazard_scores_fold)\n"
   ]
  },
  {
   "cell_type": "code",
   "execution_count": null,
   "metadata": {},
   "outputs": [],
   "source": [
    "    phenotypic_data = phenotypic_data.sample(frac=1)\n",
    "    variant_data = variant_data.sample(frac=1)\n",
    "    setA, setB, setC, setD, setE = np.array_split(variant_data['var_index'].to_list(), 5)\n",
    "\n",
    "    dfs = [setA, setB, setC, setD, setE]\n",
    "    for i in range(len(dfs)):\n",
    "        dfs[i] = phenotypic_data[phenotypic_data['var_index'].isin(dfs[i])]\n",
    "\n",
    "    # drop var index\n",
    "\n",
    "\n",
    "    # fit CPH and add hazard scores\n",
    "    new_dfs = copy.deepcopy(dfs)\n",
    "\n",
    "    for i in range(len(dfs)):\n",
    "        concatenated_df = pd.concat([df for idx, df in enumerate(dfs) if idx != i], ignore_index=True)\n",
    "        cph.fit(concatenated_df, duration_col=\"duration\", event_col=\"is_hcm\", fit_options = {\"step_size\":0.1})\n",
    "        hazard_scores_fold = cph.predict_partial_hazard(dfs[i])\n",
    "        new_dfs[i]['hazard'] = hazard_scores_fold\n",
    "        \n",
    "\n",
    "\n",
    "    phenotypic_data = pd.concat([df for idx, df in enumerate(new_dfs)])\n",
    "    print(phenotypic_data)"
   ]
  },
  {
   "cell_type": "code",
   "execution_count": null,
   "metadata": {},
   "outputs": [],
   "source": [
    "    X = phenotypic_data.drop(['var_index', 'is_hcm', 'duration'], axis = 1)\n",
    "    y = phenotypic_data[['duration', 'is_hcm']]\n",
    "\n",
    "    for train_index, test_index in kf.split(X):\n",
    "        X_train, X_test = X.iloc[train_index], X.iloc[test_index]\n",
    "        y_train, y_test = y.iloc[train_index], y.iloc[test_index]\n",
    "\n",
    "        # Fit the CoxPH model on the training data\n",
    "        cph.fit(pd.concat([X_train, y_train], axis=1), duration_col='duration', event_col='is_hcm')\n",
    "\n",
    "        # Predict and evaluate on the test data\n",
    "        cph_score = cph.score(pd.concat([X_test, y_test], axis=1), scoring_method='concordance_index')\n",
    "        hazard_scores_fold = cph.predict_partial_hazard(pd.concat([X_test, y_test], axis = 1))\n",
    "        hazard_scores.extend(hazard_scores_fold)\n",
    "        print(\"Concordance Index (C-Index) on test set:\", cph_score)        "
   ]
  },
  {
   "cell_type": "code",
   "execution_count": null,
   "metadata": {},
   "outputs": [],
   "source": [
    "cph = CoxPHFitter()\n",
    "kf = KFold(n_splits=4)\n",
    "for train_idx, test_idx in kf.split(phenotypic_data):\n",
    "    train = phenotypic_data.iloc[train_idx]\n",
    "    test = phenotypic_data.iloc[test_idx]\n",
    "    print(train, test)\n",
    "    train = train.drop(['var_index'], axis=1)\n",
    "    test = test.drop(['var_index'], axis=1)\n",
    "\n",
    "    # fit CPH and add hazard scores\n",
    "    cph.fit(train, duration_col=\"duration\", event_col=\"is_hcm\", fit_options = {\"step_size\":0.1})\n",
    "    hazard_scores_fold = cph.predict_partial_hazard(test)\n",
    "    hazard_scores.extend(hazard_scores_fold)\n",
    "\n",
    "\n",
    "        "
   ]
  }
 ],
 "metadata": {
  "language_info": {
   "name": "python"
  }
 },
 "nbformat": 4,
 "nbformat_minor": 2
}
